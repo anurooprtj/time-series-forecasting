{
 "cells": [
  {
   "cell_type": "markdown",
   "metadata": {},
   "source": [
    "# Time Series Forecasting"
   ]
  },
  {
   "cell_type": "code",
   "execution_count": 1,
   "metadata": {},
   "outputs": [],
   "source": [
    "import numpy as np\n",
    "\n",
    "import matplotlib.pyplot as plt\n",
    "%matplotlib inline\n",
    "\n",
    "import pandas as pd\n",
    "\n",
    "import tensorflow as tf\n",
    "from tensorflow import keras"
   ]
  },
  {
   "cell_type": "code",
   "execution_count": 2,
   "metadata": {},
   "outputs": [],
   "source": [
    "def createDelayedColumns(series, times):\n",
    "    cols = []\n",
    "    column_index = []\n",
    "    for time in times:\n",
    "        cols.append(series.shift(-time))\n",
    "        lag_fmt = \"t+{time}\" if time > 0 else \"t{time}\" if time < 0 else \"t\"\n",
    "        column_index += [(lag_fmt.format(time=time), col_name)\n",
    "                        for col_name in series.columns]\n",
    "    df = pd.concat(cols, axis=1)\n",
    "    df.columns = pd.MultiIndex.from_tuples(column_index)\n",
    "    return df\n",
    "\n",
    "def convert3D(df):\n",
    "    shape = [-1] + [len(level) for level in df.columns.remove_unused_levels().levels]\n",
    "    return df.values.reshape(shape)\n",
    "\n",
    "def plot_predictions(*named_predictions, start=None, end=None, **kwargs):\n",
    "    day_range = slice(start, end)\n",
    "    plt.figure(figsize=(10,5))\n",
    "    for name, y_pred in named_predictions:\n",
    "        if hasattr(y_pred, \"values\"):\n",
    "            y_pred = y_pred.values\n",
    "        plt.plot(y_pred[day_range], label=name, **kwargs)\n",
    "    plt.legend()\n",
    "    plt.show()\n",
    "    \n",
    "def plot_history(history, loss=\"loss\"):\n",
    "    train_losses = history.history[loss]\n",
    "    valid_losses = history.history[\"val_\" + loss]\n",
    "    n_epochs = len(history.epoch)\n",
    "    minloss = np.min(valid_losses)\n",
    "    \n",
    "    plt.plot(train_losses, color=\"b\", label=\"Train\")\n",
    "    plt.plot(valid_losses, color=\"r\", label=\"Validation\")\n",
    "    plt.plot([0, n_epochs], [minloss, minloss], \"k--\",\n",
    "             label=\"Min val: {:.2f}\".format(minloss))\n",
    "    plt.axis([0, n_epochs, 0, 20])\n",
    "    plt.legend()\n",
    "    plt.show()\n"
   ]
  },
  {
   "cell_type": "markdown",
   "metadata": {},
   "source": [
    "### Daily minimum temperatures in Melbourne from 1981 to 1990 "
   ]
  },
  {
   "cell_type": "code",
   "execution_count": 3,
   "metadata": {},
   "outputs": [],
   "source": [
    "dailyTemps = pd.read_csv(\"data/daily-minimum-temperatures.csv\", \n",
    "                        parse_dates=[0], index_col=[0])"
   ]
  },
  {
   "cell_type": "code",
   "execution_count": 4,
   "metadata": {
    "scrolled": true
   },
   "outputs": [
    {
     "data": {
      "text/html": [
       "<div>\n",
       "<style scoped>\n",
       "    .dataframe tbody tr th:only-of-type {\n",
       "        vertical-align: middle;\n",
       "    }\n",
       "\n",
       "    .dataframe tbody tr th {\n",
       "        vertical-align: top;\n",
       "    }\n",
       "\n",
       "    .dataframe thead th {\n",
       "        text-align: right;\n",
       "    }\n",
       "</style>\n",
       "<table border=\"1\" class=\"dataframe\">\n",
       "  <thead>\n",
       "    <tr style=\"text-align: right;\">\n",
       "      <th></th>\n",
       "      <th>Temperature</th>\n",
       "    </tr>\n",
       "    <tr>\n",
       "      <th>Date</th>\n",
       "      <th></th>\n",
       "    </tr>\n",
       "  </thead>\n",
       "  <tbody>\n",
       "    <tr>\n",
       "      <th>1981-01-01</th>\n",
       "      <td>20.7</td>\n",
       "    </tr>\n",
       "    <tr>\n",
       "      <th>1981-01-02</th>\n",
       "      <td>17.9</td>\n",
       "    </tr>\n",
       "    <tr>\n",
       "      <th>1981-01-03</th>\n",
       "      <td>18.8</td>\n",
       "    </tr>\n",
       "    <tr>\n",
       "      <th>1981-01-04</th>\n",
       "      <td>14.6</td>\n",
       "    </tr>\n",
       "    <tr>\n",
       "      <th>1981-01-05</th>\n",
       "      <td>15.8</td>\n",
       "    </tr>\n",
       "  </tbody>\n",
       "</table>\n",
       "</div>"
      ],
      "text/plain": [
       "            Temperature\n",
       "Date                   \n",
       "1981-01-01         20.7\n",
       "1981-01-02         17.9\n",
       "1981-01-03         18.8\n",
       "1981-01-04         14.6\n",
       "1981-01-05         15.8"
      ]
     },
     "execution_count": 4,
     "metadata": {},
     "output_type": "execute_result"
    }
   ],
   "source": [
    "dailyTemps.head()"
   ]
  },
  {
   "cell_type": "code",
   "execution_count": 5,
   "metadata": {},
   "outputs": [
    {
     "data": {
      "text/html": [
       "<div>\n",
       "<style scoped>\n",
       "    .dataframe tbody tr th:only-of-type {\n",
       "        vertical-align: middle;\n",
       "    }\n",
       "\n",
       "    .dataframe tbody tr th {\n",
       "        vertical-align: top;\n",
       "    }\n",
       "\n",
       "    .dataframe thead th {\n",
       "        text-align: right;\n",
       "    }\n",
       "</style>\n",
       "<table border=\"1\" class=\"dataframe\">\n",
       "  <thead>\n",
       "    <tr style=\"text-align: right;\">\n",
       "      <th></th>\n",
       "      <th>Temperature</th>\n",
       "    </tr>\n",
       "    <tr>\n",
       "      <th>Date</th>\n",
       "      <th></th>\n",
       "    </tr>\n",
       "  </thead>\n",
       "  <tbody>\n",
       "    <tr>\n",
       "      <th>1990-12-27</th>\n",
       "      <td>14.0</td>\n",
       "    </tr>\n",
       "    <tr>\n",
       "      <th>1990-12-28</th>\n",
       "      <td>13.6</td>\n",
       "    </tr>\n",
       "    <tr>\n",
       "      <th>1990-12-29</th>\n",
       "      <td>13.5</td>\n",
       "    </tr>\n",
       "    <tr>\n",
       "      <th>1990-12-30</th>\n",
       "      <td>15.7</td>\n",
       "    </tr>\n",
       "    <tr>\n",
       "      <th>1990-12-31</th>\n",
       "      <td>13.0</td>\n",
       "    </tr>\n",
       "  </tbody>\n",
       "</table>\n",
       "</div>"
      ],
      "text/plain": [
       "            Temperature\n",
       "Date                   \n",
       "1990-12-27         14.0\n",
       "1990-12-28         13.6\n",
       "1990-12-29         13.5\n",
       "1990-12-30         15.7\n",
       "1990-12-31         13.0"
      ]
     },
     "execution_count": 5,
     "metadata": {},
     "output_type": "execute_result"
    }
   ],
   "source": [
    "dailyTemps.tail()"
   ]
  },
  {
   "cell_type": "code",
   "execution_count": 6,
   "metadata": {
    "scrolled": true
   },
   "outputs": [
    {
     "name": "stdout",
     "output_type": "stream",
     "text": [
      "<class 'pandas.core.frame.DataFrame'>\n",
      "DatetimeIndex: 3650 entries, 1981-01-01 to 1990-12-31\n",
      "Data columns (total 1 columns):\n",
      "Temperature    3650 non-null float64\n",
      "dtypes: float64(1)\n",
      "memory usage: 57.0 KB\n",
      "None\n"
     ]
    }
   ],
   "source": [
    "print(dailyTemps.info())"
   ]
  },
  {
   "cell_type": "code",
   "execution_count": 7,
   "metadata": {},
   "outputs": [
    {
     "data": {
      "image/png": "[encoded data removed]",
      "text/plain": [
       "<Figure size 864x576 with 1 Axes>"
      ]
     },
     "metadata": {
      "needs_background": "light"
     },
     "output_type": "display_data"
    }
   ],
   "source": [
    "dailyTemps.plot(figsize=(12,8))\n",
    "plt.savefig(\"f1.png\", format='png', dpi=300)\n",
    "plt.tight_layout()\n",
    "plt.show()"
   ]
  },
  {
   "cell_type": "markdown",
   "metadata": {},
   "source": [
    "### Based on previous 7 days minimum temperature, predict the minimum temperature after two days"
   ]
  },
  {
   "cell_type": "code",
   "execution_count": 8,
   "metadata": {},
   "outputs": [],
   "source": [
    "previousDays = 7\n",
    "afterDays = 2\n",
    "\n",
    "X = createDelayedColumns(dailyTemps, times=range(-previousDays+1,1)).iloc[previousDays:-afterDays]\n",
    "y = createDelayedColumns(dailyTemps, times=[afterDays]).iloc[previousDays:-afterDays]"
   ]
  },
  {
   "cell_type": "code",
   "execution_count": 9,
   "metadata": {},
   "outputs": [
    {
     "data": {
      "text/html": [
       "<div>\n",
       "<style scoped>\n",
       "    .dataframe tbody tr th:only-of-type {\n",
       "        vertical-align: middle;\n",
       "    }\n",
       "\n",
       "    .dataframe tbody tr th {\n",
       "        vertical-align: top;\n",
       "    }\n",
       "\n",
       "    .dataframe thead tr th {\n",
       "        text-align: left;\n",
       "    }\n",
       "\n",
       "    .dataframe thead tr:last-of-type th {\n",
       "        text-align: right;\n",
       "    }\n",
       "</style>\n",
       "<table border=\"1\" class=\"dataframe\">\n",
       "  <thead>\n",
       "    <tr>\n",
       "      <th></th>\n",
       "      <th>t-6</th>\n",
       "      <th>t-5</th>\n",
       "      <th>t-4</th>\n",
       "      <th>t-3</th>\n",
       "      <th>t-2</th>\n",
       "      <th>t-1</th>\n",
       "      <th>t</th>\n",
       "    </tr>\n",
       "    <tr>\n",
       "      <th></th>\n",
       "      <th>Temperature</th>\n",
       "      <th>Temperature</th>\n",
       "      <th>Temperature</th>\n",
       "      <th>Temperature</th>\n",
       "      <th>Temperature</th>\n",
       "      <th>Temperature</th>\n",
       "      <th>Temperature</th>\n",
       "    </tr>\n",
       "    <tr>\n",
       "      <th>Date</th>\n",
       "      <th></th>\n",
       "      <th></th>\n",
       "      <th></th>\n",
       "      <th></th>\n",
       "      <th></th>\n",
       "      <th></th>\n",
       "      <th></th>\n",
       "    </tr>\n",
       "  </thead>\n",
       "  <tbody>\n",
       "    <tr>\n",
       "      <th>1981-01-08</th>\n",
       "      <td>17.9</td>\n",
       "      <td>18.8</td>\n",
       "      <td>14.6</td>\n",
       "      <td>15.8</td>\n",
       "      <td>15.8</td>\n",
       "      <td>15.8</td>\n",
       "      <td>17.4</td>\n",
       "    </tr>\n",
       "    <tr>\n",
       "      <th>1981-01-09</th>\n",
       "      <td>18.8</td>\n",
       "      <td>14.6</td>\n",
       "      <td>15.8</td>\n",
       "      <td>15.8</td>\n",
       "      <td>15.8</td>\n",
       "      <td>17.4</td>\n",
       "      <td>21.8</td>\n",
       "    </tr>\n",
       "    <tr>\n",
       "      <th>1981-01-10</th>\n",
       "      <td>14.6</td>\n",
       "      <td>15.8</td>\n",
       "      <td>15.8</td>\n",
       "      <td>15.8</td>\n",
       "      <td>17.4</td>\n",
       "      <td>21.8</td>\n",
       "      <td>20.0</td>\n",
       "    </tr>\n",
       "    <tr>\n",
       "      <th>1981-01-11</th>\n",
       "      <td>15.8</td>\n",
       "      <td>15.8</td>\n",
       "      <td>15.8</td>\n",
       "      <td>17.4</td>\n",
       "      <td>21.8</td>\n",
       "      <td>20.0</td>\n",
       "      <td>16.2</td>\n",
       "    </tr>\n",
       "    <tr>\n",
       "      <th>1981-01-12</th>\n",
       "      <td>15.8</td>\n",
       "      <td>15.8</td>\n",
       "      <td>17.4</td>\n",
       "      <td>21.8</td>\n",
       "      <td>20.0</td>\n",
       "      <td>16.2</td>\n",
       "      <td>13.3</td>\n",
       "    </tr>\n",
       "  </tbody>\n",
       "</table>\n",
       "</div>"
      ],
      "text/plain": [
       "                   t-6         t-5         t-4         t-3         t-2  \\\n",
       "           Temperature Temperature Temperature Temperature Temperature   \n",
       "Date                                                                     \n",
       "1981-01-08        17.9        18.8        14.6        15.8        15.8   \n",
       "1981-01-09        18.8        14.6        15.8        15.8        15.8   \n",
       "1981-01-10        14.6        15.8        15.8        15.8        17.4   \n",
       "1981-01-11        15.8        15.8        15.8        17.4        21.8   \n",
       "1981-01-12        15.8        15.8        17.4        21.8        20.0   \n",
       "\n",
       "                   t-1           t  \n",
       "           Temperature Temperature  \n",
       "Date                                \n",
       "1981-01-08        15.8        17.4  \n",
       "1981-01-09        17.4        21.8  \n",
       "1981-01-10        21.8        20.0  \n",
       "1981-01-11        20.0        16.2  \n",
       "1981-01-12        16.2        13.3  "
      ]
     },
     "execution_count": 9,
     "metadata": {},
     "output_type": "execute_result"
    }
   ],
   "source": [
    "X.head()"
   ]
  },
  {
   "cell_type": "code",
   "execution_count": 10,
   "metadata": {},
   "outputs": [
    {
     "data": {
      "text/html": [
       "<div>\n",
       "<style scoped>\n",
       "    .dataframe tbody tr th:only-of-type {\n",
       "        vertical-align: middle;\n",
       "    }\n",
       "\n",
       "    .dataframe tbody tr th {\n",
       "        vertical-align: top;\n",
       "    }\n",
       "\n",
       "    .dataframe thead tr th {\n",
       "        text-align: left;\n",
       "    }\n",
       "\n",
       "    .dataframe thead tr:last-of-type th {\n",
       "        text-align: right;\n",
       "    }\n",
       "</style>\n",
       "<table border=\"1\" class=\"dataframe\">\n",
       "  <thead>\n",
       "    <tr>\n",
       "      <th></th>\n",
       "      <th>t+2</th>\n",
       "    </tr>\n",
       "    <tr>\n",
       "      <th></th>\n",
       "      <th>Temperature</th>\n",
       "    </tr>\n",
       "    <tr>\n",
       "      <th>Date</th>\n",
       "      <th></th>\n",
       "    </tr>\n",
       "  </thead>\n",
       "  <tbody>\n",
       "    <tr>\n",
       "      <th>1981-01-08</th>\n",
       "      <td>20.0</td>\n",
       "    </tr>\n",
       "    <tr>\n",
       "      <th>1981-01-09</th>\n",
       "      <td>16.2</td>\n",
       "    </tr>\n",
       "    <tr>\n",
       "      <th>1981-01-10</th>\n",
       "      <td>13.3</td>\n",
       "    </tr>\n",
       "    <tr>\n",
       "      <th>1981-01-11</th>\n",
       "      <td>16.7</td>\n",
       "    </tr>\n",
       "    <tr>\n",
       "      <th>1981-01-12</th>\n",
       "      <td>21.5</td>\n",
       "    </tr>\n",
       "  </tbody>\n",
       "</table>\n",
       "</div>"
      ],
      "text/plain": [
       "                   t+2\n",
       "           Temperature\n",
       "Date                  \n",
       "1981-01-08        20.0\n",
       "1981-01-09        16.2\n",
       "1981-01-10        13.3\n",
       "1981-01-11        16.7\n",
       "1981-01-12        21.5"
      ]
     },
     "execution_count": 10,
     "metadata": {},
     "output_type": "execute_result"
    }
   ],
   "source": [
    "y.head()"
   ]
  },
  {
   "cell_type": "code",
   "execution_count": 11,
   "metadata": {},
   "outputs": [],
   "source": [
    "train_slice = slice(None, \"1988-12-28\")\n",
    "test_slice = slice(\"1989-01-01\", None)"
   ]
  },
  {
   "cell_type": "code",
   "execution_count": 12,
   "metadata": {},
   "outputs": [],
   "source": [
    "X_train, y_train = X.loc[train_slice], y.loc[train_slice]\n",
    "X_test, y_test = X.loc[test_slice], y.loc[test_slice]"
   ]
  },
  {
   "cell_type": "code",
   "execution_count": 13,
   "metadata": {
    "scrolled": true
   },
   "outputs": [
    {
     "name": "stdout",
     "output_type": "stream",
     "text": [
      "<class 'pandas.core.frame.DataFrame'>\n",
      "DatetimeIndex: 2911 entries, 1981-01-08 to 1988-12-28\n",
      "Data columns (total 7 columns):\n",
      "(t-6, Temperature)    2911 non-null float64\n",
      "(t-5, Temperature)    2911 non-null float64\n",
      "(t-4, Temperature)    2911 non-null float64\n",
      "(t-3, Temperature)    2911 non-null float64\n",
      "(t-2, Temperature)    2911 non-null float64\n",
      "(t-1, Temperature)    2911 non-null float64\n",
      "(t, Temperature)      2911 non-null float64\n",
      "dtypes: float64(7)\n",
      "memory usage: 181.9 KB\n",
      "None\n"
     ]
    }
   ],
   "source": [
    "print(X_train.info())"
   ]
  },
  {
   "cell_type": "code",
   "execution_count": 14,
   "metadata": {},
   "outputs": [
    {
     "name": "stdout",
     "output_type": "stream",
     "text": [
      "<class 'pandas.core.frame.DataFrame'>\n",
      "DatetimeIndex: 728 entries, 1989-01-01 to 1990-12-29\n",
      "Data columns (total 7 columns):\n",
      "(t-6, Temperature)    728 non-null float64\n",
      "(t-5, Temperature)    728 non-null float64\n",
      "(t-4, Temperature)    728 non-null float64\n",
      "(t-3, Temperature)    728 non-null float64\n",
      "(t-2, Temperature)    728 non-null float64\n",
      "(t-1, Temperature)    728 non-null float64\n",
      "(t, Temperature)      728 non-null float64\n",
      "dtypes: float64(7)\n",
      "memory usage: 45.5 KB\n",
      "None\n"
     ]
    }
   ],
   "source": [
    "print(X_test.info())"
   ]
  },
  {
   "cell_type": "code",
   "execution_count": 15,
   "metadata": {},
   "outputs": [],
   "source": [
    "# RNN needs the input to be 3D\n",
    "\n",
    "X_train_3D = convert3D(X_train)\n",
    "X_test_3D = convert3D(X_test)"
   ]
  },
  {
   "cell_type": "code",
   "execution_count": 16,
   "metadata": {},
   "outputs": [
    {
     "name": "stdout",
     "output_type": "stream",
     "text": [
      "(2911, 7, 1) (728, 7, 1)\n"
     ]
    }
   ],
   "source": [
    "print(X_train_3D.shape, X_test_3D.shape)"
   ]
  },
  {
   "cell_type": "markdown",
   "metadata": {},
   "source": [
    "## Simple RNN"
   ]
  },
  {
   "cell_type": "code",
   "execution_count": 17,
   "metadata": {},
   "outputs": [
    {
     "name": "stdout",
     "output_type": "stream",
     "text": [
      "WARNING:tensorflow:From /home/ubuntu/miniconda3/envs/vcdl/lib/python3.6/site-packages/tensorflow/python/ops/resource_variable_ops.py:435: colocate_with (from tensorflow.python.framework.ops) is deprecated and will be removed in a future version.\n",
      "Instructions for updating:\n",
      "Colocations handled automatically by placer.\n",
      "WARNING:tensorflow:From /home/ubuntu/miniconda3/envs/vcdl/lib/python3.6/site-packages/tensorflow/python/keras/utils/losses_utils.py:170: to_float (from tensorflow.python.ops.math_ops) is deprecated and will be removed in a future version.\n",
      "Instructions for updating:\n",
      "Use tf.cast instead.\n",
      "_________________________________________________________________\n",
      "Layer (type)                 Output Shape              Param #   \n",
      "=================================================================\n",
      "simple_rnn (SimpleRNN)       (None, 7, 50)             2600      \n",
      "_________________________________________________________________\n",
      "simple_rnn_1 (SimpleRNN)     (None, 25)                1900      \n",
      "_________________________________________________________________\n",
      "dense (Dense)                (None, 1)                 26        \n",
      "=================================================================\n",
      "Total params: 4,526\n",
      "Trainable params: 4,526\n",
      "Non-trainable params: 0\n",
      "_________________________________________________________________\n"
     ]
    }
   ],
   "source": [
    "model_simpleRNN = keras.models.Sequential()\n",
    "model_simpleRNN.add(keras.layers.SimpleRNN(50, return_sequences=True, input_shape=(7,1)))\n",
    "model_simpleRNN.add(keras.layers.SimpleRNN(25))\n",
    "model_simpleRNN.add(keras.layers.Dense(1))\n",
    "\n",
    "model_simpleRNN.compile(loss=\"mse\", optimizer=\"adam\", metrics=[\"mae\"])\n",
    "model_simpleRNN.summary()"
   ]
  },
  {
   "cell_type": "code",
   "execution_count": 18,
   "metadata": {
    "scrolled": false
   },
   "outputs": [
    {
     "name": "stdout",
     "output_type": "stream",
     "text": [
      "Train on 2619 samples, validate on 292 samples\n",
      "WARNING:tensorflow:From /home/ubuntu/miniconda3/envs/vcdl/lib/python3.6/site-packages/tensorflow/python/ops/math_ops.py:3066: to_int32 (from tensorflow.python.ops.math_ops) is deprecated and will be removed in a future version.\n",
      "Instructions for updating:\n",
      "Use tf.cast instead.\n",
      "Epoch 1/20\n",
      "2619/2619 [==============================] - 2s 722us/sample - loss: 47.0250 - mean_absolute_error: 5.6134 - val_loss: 21.0182 - val_mean_absolute_error: 3.6432\n",
      "Epoch 2/20\n",
      "2619/2619 [==============================] - 1s 241us/sample - loss: 20.3121 - mean_absolute_error: 3.5648 - val_loss: 13.6193 - val_mean_absolute_error: 2.9288\n",
      "Epoch 3/20\n",
      "2619/2619 [==============================] - 1s 215us/sample - loss: 14.5137 - mean_absolute_error: 2.9614 - val_loss: 10.7660 - val_mean_absolute_error: 2.6129\n",
      "Epoch 4/20\n",
      "2619/2619 [==============================] - 1s 215us/sample - loss: 11.2207 - mean_absolute_error: 2.5863 - val_loss: 9.1201 - val_mean_absolute_error: 2.3917\n",
      "Epoch 5/20\n",
      "2619/2619 [==============================] - 1s 215us/sample - loss: 9.9943 - mean_absolute_error: 2.4357 - val_loss: 9.4156 - val_mean_absolute_error: 2.4385\n",
      "Epoch 6/20\n",
      "2619/2619 [==============================] - 1s 251us/sample - loss: 9.3450 - mean_absolute_error: 2.3745 - val_loss: 8.6693 - val_mean_absolute_error: 2.2906\n",
      "Epoch 7/20\n",
      "2619/2619 [==============================] - 1s 247us/sample - loss: 9.1082 - mean_absolute_error: 2.3293 - val_loss: 8.4550 - val_mean_absolute_error: 2.2854\n",
      "Epoch 8/20\n",
      "2619/2619 [==============================] - 1s 262us/sample - loss: 8.9567 - mean_absolute_error: 2.3187 - val_loss: 8.6695 - val_mean_absolute_error: 2.2756\n",
      "Epoch 9/20\n",
      "2619/2619 [==============================] - 1s 255us/sample - loss: 8.9209 - mean_absolute_error: 2.3144 - val_loss: 8.2865 - val_mean_absolute_error: 2.2672\n",
      "Epoch 10/20\n",
      "2619/2619 [==============================] - 1s 269us/sample - loss: 8.7875 - mean_absolute_error: 2.2960 - val_loss: 8.2599 - val_mean_absolute_error: 2.2442\n",
      "Epoch 11/20\n",
      "2619/2619 [==============================] - 1s 240us/sample - loss: 8.7364 - mean_absolute_error: 2.2893 - val_loss: 8.0434 - val_mean_absolute_error: 2.2156\n",
      "Epoch 12/20\n",
      "2619/2619 [==============================] - 1s 239us/sample - loss: 8.7076 - mean_absolute_error: 2.2833 - val_loss: 8.4348 - val_mean_absolute_error: 2.2985\n",
      "Epoch 13/20\n",
      "2619/2619 [==============================] - 1s 296us/sample - loss: 8.6736 - mean_absolute_error: 2.2718 - val_loss: 8.0602 - val_mean_absolute_error: 2.2268\n",
      "Epoch 14/20\n",
      "2619/2619 [==============================] - 1s 334us/sample - loss: 8.5656 - mean_absolute_error: 2.2704 - val_loss: 8.4199 - val_mean_absolute_error: 2.2967\n",
      "Epoch 15/20\n",
      "2619/2619 [==============================] - 1s 329us/sample - loss: 8.5754 - mean_absolute_error: 2.2700 - val_loss: 8.2125 - val_mean_absolute_error: 2.2431\n",
      "Epoch 16/20\n",
      "2619/2619 [==============================] - 1s 317us/sample - loss: 8.5381 - mean_absolute_error: 2.2622 - val_loss: 7.9700 - val_mean_absolute_error: 2.2049\n",
      "Epoch 17/20\n",
      "2619/2619 [==============================] - 1s 309us/sample - loss: 8.5663 - mean_absolute_error: 2.2705 - val_loss: 8.0052 - val_mean_absolute_error: 2.2129\n",
      "Epoch 18/20\n",
      "2619/2619 [==============================] - 1s 279us/sample - loss: 8.4705 - mean_absolute_error: 2.2524 - val_loss: 8.1641 - val_mean_absolute_error: 2.2304\n",
      "Epoch 19/20\n",
      "2619/2619 [==============================] - 1s 281us/sample - loss: 8.5206 - mean_absolute_error: 2.2653 - val_loss: 8.2859 - val_mean_absolute_error: 2.2190\n",
      "Epoch 20/20\n",
      "2619/2619 [==============================] - 1s 313us/sample - loss: 8.4140 - mean_absolute_error: 2.2452 - val_loss: 8.1262 - val_mean_absolute_error: 2.2336\n"
     ]
    }
   ],
   "source": [
    "history_simpleRNN = model_simpleRNN.fit(X_train_3D, y_train, epochs=20, \n",
    "                                        batch_size=20, validation_split=0.1)"
   ]
  },
  {
   "cell_type": "code",
   "execution_count": 19,
   "metadata": {},
   "outputs": [
    {
     "data": {
      "image/png": "[encoded data removed]",
      "text/plain": [
       "<Figure size 432x288 with 1 Axes>"
      ]
     },
     "metadata": {
      "needs_background": "light"
     },
     "output_type": "display_data"
    }
   ],
   "source": [
    "pd.DataFrame(history_simpleRNN.history).plot()\n",
    "plt.xlabel(\"epochs\")\n",
    "plt.ylabel(\"loss\")\n",
    "plt.grid(True)\n",
    "plt.show()"
   ]
  },
  {
   "cell_type": "markdown",
   "metadata": {},
   "source": [
    "## LSTM"
   ]
  },
  {
   "cell_type": "code",
   "execution_count": 20,
   "metadata": {},
   "outputs": [
    {
     "name": "stdout",
     "output_type": "stream",
     "text": [
      "_________________________________________________________________\n",
      "Layer (type)                 Output Shape              Param #   \n",
      "=================================================================\n",
      "lstm (LSTM)                  (None, 7, 50)             10400     \n",
      "_________________________________________________________________\n",
      "lstm_1 (LSTM)                (None, 25)                7600      \n",
      "_________________________________________________________________\n",
      "dense_1 (Dense)              (None, 1)                 26        \n",
      "=================================================================\n",
      "Total params: 18,026\n",
      "Trainable params: 18,026\n",
      "Non-trainable params: 0\n",
      "_________________________________________________________________\n"
     ]
    }
   ],
   "source": [
    "model_LSTM = keras.models.Sequential()\n",
    "model_LSTM.add(keras.layers.LSTM(50, return_sequences=True, input_shape=(7,1)))\n",
    "model_LSTM.add(keras.layers.LSTM(25))\n",
    "model_LSTM.add(keras.layers.Dense(1))\n",
    "\n",
    "model_LSTM.compile(loss=\"mse\", optimizer=\"adam\", metrics=[\"mae\"])\n",
    "model_LSTM.summary()"
   ]
  },
  {
   "cell_type": "code",
   "execution_count": 21,
   "metadata": {},
   "outputs": [
    {
     "name": "stdout",
     "output_type": "stream",
     "text": [
      "Train on 2619 samples, validate on 292 samples\n",
      "Epoch 1/20\n",
      "2619/2619 [==============================] - 4s 1ms/sample - loss: 51.4251 - mean_absolute_error: 5.9208 - val_loss: 20.5605 - val_mean_absolute_error: 3.5978\n",
      "Epoch 2/20\n",
      "2619/2619 [==============================] - 2s 803us/sample - loss: 20.3234 - mean_absolute_error: 3.5685 - val_loss: 13.5158 - val_mean_absolute_error: 2.9550\n",
      "Epoch 3/20\n",
      "2619/2619 [==============================] - 2s 788us/sample - loss: 17.1789 - mean_absolute_error: 3.3025 - val_loss: 12.5009 - val_mean_absolute_error: 2.8779\n",
      "Epoch 4/20\n",
      "2619/2619 [==============================] - 3s 982us/sample - loss: 15.7476 - mean_absolute_error: 3.1530 - val_loss: 10.7691 - val_mean_absolute_error: 2.6135\n",
      "Epoch 5/20\n",
      "2619/2619 [==============================] - 3s 1ms/sample - loss: 11.2455 - mean_absolute_error: 2.5918 - val_loss: 8.6519 - val_mean_absolute_error: 2.3499\n",
      "Epoch 6/20\n",
      "2619/2619 [==============================] - 2s 918us/sample - loss: 9.6894 - mean_absolute_error: 2.4053 - val_loss: 8.5713 - val_mean_absolute_error: 2.3299\n",
      "Epoch 7/20\n",
      "2619/2619 [==============================] - 2s 803us/sample - loss: 9.1575 - mean_absolute_error: 2.3374 - val_loss: 8.0039 - val_mean_absolute_error: 2.2194\n",
      "Epoch 8/20\n",
      "2619/2619 [==============================] - 2s 668us/sample - loss: 8.9277 - mean_absolute_error: 2.3036 - val_loss: 8.0920 - val_mean_absolute_error: 2.2487\n",
      "Epoch 9/20\n",
      "2619/2619 [==============================] - 2s 737us/sample - loss: 8.7399 - mean_absolute_error: 2.2876 - val_loss: 7.8539 - val_mean_absolute_error: 2.1816\n",
      "Epoch 10/20\n",
      "2619/2619 [==============================] - 2s 802us/sample - loss: 8.6413 - mean_absolute_error: 2.2759 - val_loss: 7.8969 - val_mean_absolute_error: 2.1929\n",
      "Epoch 11/20\n",
      "2619/2619 [==============================] - 3s 962us/sample - loss: 8.5882 - mean_absolute_error: 2.2754 - val_loss: 8.0917 - val_mean_absolute_error: 2.2202\n",
      "Epoch 12/20\n",
      "2619/2619 [==============================] - 3s 1ms/sample - loss: 8.5689 - mean_absolute_error: 2.2707 - val_loss: 7.8579 - val_mean_absolute_error: 2.1838\n",
      "Epoch 13/20\n",
      "2619/2619 [==============================] - 2s 844us/sample - loss: 8.5165 - mean_absolute_error: 2.2673 - val_loss: 7.8390 - val_mean_absolute_error: 2.1775\n",
      "Epoch 14/20\n",
      "2619/2619 [==============================] - 3s 965us/sample - loss: 8.5517 - mean_absolute_error: 2.2616 - val_loss: 7.9354 - val_mean_absolute_error: 2.1942\n",
      "Epoch 15/20\n",
      "2619/2619 [==============================] - 3s 964us/sample - loss: 8.5630 - mean_absolute_error: 2.2784 - val_loss: 7.8451 - val_mean_absolute_error: 2.1715\n",
      "Epoch 16/20\n",
      "2619/2619 [==============================] - 3s 985us/sample - loss: 8.4638 - mean_absolute_error: 2.2576 - val_loss: 7.9281 - val_mean_absolute_error: 2.1913\n",
      "Epoch 17/20\n",
      "2619/2619 [==============================] - 2s 775us/sample - loss: 8.4458 - mean_absolute_error: 2.2598 - val_loss: 7.7837 - val_mean_absolute_error: 2.1579\n",
      "Epoch 18/20\n",
      "2619/2619 [==============================] - 2s 706us/sample - loss: 8.4897 - mean_absolute_error: 2.2717 - val_loss: 8.5669 - val_mean_absolute_error: 2.2566\n",
      "Epoch 19/20\n",
      "2619/2619 [==============================] - 2s 754us/sample - loss: 8.4455 - mean_absolute_error: 2.2526 - val_loss: 8.1812 - val_mean_absolute_error: 2.2356\n",
      "Epoch 20/20\n",
      "2619/2619 [==============================] - 2s 838us/sample - loss: 8.4074 - mean_absolute_error: 2.2476 - val_loss: 8.2273 - val_mean_absolute_error: 2.2454\n"
     ]
    }
   ],
   "source": [
    "history_LSTM = model_LSTM.fit(X_train_3D, y_train, epochs=20, \n",
    "                                        batch_size=20, validation_split=0.1)"
   ]
  },
  {
   "cell_type": "code",
   "execution_count": 22,
   "metadata": {},
   "outputs": [
    {
     "data": {
      "image/png": "[encoded data removed]",
      "text/plain": [
       "<Figure size 432x288 with 1 Axes>"
      ]
     },
     "metadata": {
      "needs_background": "light"
     },
     "output_type": "display_data"
    }
   ],
   "source": [
    "pd.DataFrame(history_LSTM.history).plot()\n",
    "plt.xlabel(\"epochs\")\n",
    "plt.ylabel(\"loss\")\n",
    "plt.grid(True)\n",
    "plt.show()"
   ]
  },
  {
   "cell_type": "markdown",
   "metadata": {},
   "source": [
    "# GRU"
   ]
  },
  {
   "cell_type": "code",
   "execution_count": 23,
   "metadata": {},
   "outputs": [
    {
     "name": "stdout",
     "output_type": "stream",
     "text": [
      "_________________________________________________________________\n",
      "Layer (type)                 Output Shape              Param #   \n",
      "=================================================================\n",
      "gru (GRU)                    (None, 7, 50)             7800      \n",
      "_________________________________________________________________\n",
      "gru_1 (GRU)                  (None, 25)                5700      \n",
      "_________________________________________________________________\n",
      "dense_2 (Dense)              (None, 1)                 26        \n",
      "=================================================================\n",
      "Total params: 13,526\n",
      "Trainable params: 13,526\n",
      "Non-trainable params: 0\n",
      "_________________________________________________________________\n"
     ]
    }
   ],
   "source": [
    "model_GRU = keras.models.Sequential()\n",
    "model_GRU.add(keras.layers.GRU(50, return_sequences=True, input_shape=(7,1)))\n",
    "model_GRU.add(keras.layers.GRU(25))\n",
    "model_GRU.add(keras.layers.Dense(1))\n",
    "\n",
    "model_GRU.compile(loss=\"mse\", optimizer=\"adam\", metrics=[\"mae\"])\n",
    "model_GRU.summary()"
   ]
  },
  {
   "cell_type": "code",
   "execution_count": 24,
   "metadata": {},
   "outputs": [
    {
     "name": "stdout",
     "output_type": "stream",
     "text": [
      "Train on 2619 samples, validate on 292 samples\n",
      "Epoch 1/20\n",
      "2619/2619 [==============================] - 3s 1ms/sample - loss: 37.6292 - mean_absolute_error: 4.9205 - val_loss: 15.5121 - val_mean_absolute_error: 3.1270\n",
      "Epoch 2/20\n",
      "2619/2619 [==============================] - 2s 657us/sample - loss: 17.5828 - mean_absolute_error: 3.3251 - val_loss: 12.0816 - val_mean_absolute_error: 2.7788\n",
      "Epoch 3/20\n",
      "2619/2619 [==============================] - 2s 813us/sample - loss: 12.5298 - mean_absolute_error: 2.7322 - val_loss: 9.7487 - val_mean_absolute_error: 2.4694\n",
      "Epoch 4/20\n",
      "2619/2619 [==============================] - 4s 1ms/sample - loss: 10.0407 - mean_absolute_error: 2.4424 - val_loss: 8.4650 - val_mean_absolute_error: 2.2931\n",
      "Epoch 5/20\n",
      "2619/2619 [==============================] - 3s 993us/sample - loss: 9.3423 - mean_absolute_error: 2.3657 - val_loss: 8.4030 - val_mean_absolute_error: 2.2815\n",
      "Epoch 6/20\n",
      "2619/2619 [==============================] - 2s 890us/sample - loss: 9.0283 - mean_absolute_error: 2.3312 - val_loss: 7.9820 - val_mean_absolute_error: 2.2154\n",
      "Epoch 7/20\n",
      "2619/2619 [==============================] - 2s 954us/sample - loss: 8.8324 - mean_absolute_error: 2.3039 - val_loss: 8.0708 - val_mean_absolute_error: 2.2103\n",
      "Epoch 8/20\n",
      "2619/2619 [==============================] - 3s 1ms/sample - loss: 8.6785 - mean_absolute_error: 2.2818 - val_loss: 8.2846 - val_mean_absolute_error: 2.2544\n",
      "Epoch 9/20\n",
      "2619/2619 [==============================] - 3s 1ms/sample - loss: 8.6170 - mean_absolute_error: 2.2729 - val_loss: 7.7914 - val_mean_absolute_error: 2.1693\n",
      "Epoch 10/20\n",
      "2619/2619 [==============================] - 3s 1ms/sample - loss: 8.5643 - mean_absolute_error: 2.2717 - val_loss: 7.7947 - val_mean_absolute_error: 2.1685\n",
      "Epoch 11/20\n",
      "2619/2619 [==============================] - 3s 1ms/sample - loss: 8.4933 - mean_absolute_error: 2.2611 - val_loss: 7.9285 - val_mean_absolute_error: 2.1948\n",
      "Epoch 12/20\n",
      "2619/2619 [==============================] - 3s 965us/sample - loss: 8.5741 - mean_absolute_error: 2.2708 - val_loss: 7.9759 - val_mean_absolute_error: 2.2023\n",
      "Epoch 13/20\n",
      "2619/2619 [==============================] - 3s 1ms/sample - loss: 8.4012 - mean_absolute_error: 2.2493 - val_loss: 7.7427 - val_mean_absolute_error: 2.1545\n",
      "Epoch 14/20\n",
      "2619/2619 [==============================] - 3s 1ms/sample - loss: 8.4824 - mean_absolute_error: 2.2591 - val_loss: 7.9366 - val_mean_absolute_error: 2.1872\n",
      "Epoch 15/20\n",
      "2619/2619 [==============================] - 2s 884us/sample - loss: 8.4178 - mean_absolute_error: 2.2524 - val_loss: 8.5315 - val_mean_absolute_error: 2.2939\n",
      "Epoch 16/20\n",
      "2619/2619 [==============================] - 3s 979us/sample - loss: 8.4182 - mean_absolute_error: 2.2494 - val_loss: 7.8206 - val_mean_absolute_error: 2.1688\n",
      "Epoch 17/20\n",
      "2619/2619 [==============================] - 3s 1ms/sample - loss: 8.4392 - mean_absolute_error: 2.2547 - val_loss: 7.9949 - val_mean_absolute_error: 2.2007\n",
      "Epoch 18/20\n",
      "2619/2619 [==============================] - 3s 988us/sample - loss: 8.3318 - mean_absolute_error: 2.2354 - val_loss: 8.0273 - val_mean_absolute_error: 2.2055\n",
      "Epoch 19/20\n",
      "2619/2619 [==============================] - 2s 931us/sample - loss: 8.3253 - mean_absolute_error: 2.2448 - val_loss: 8.2619 - val_mean_absolute_error: 2.2384\n",
      "Epoch 20/20\n",
      "2619/2619 [==============================] - 3s 1ms/sample - loss: 8.3563 - mean_absolute_error: 2.2431 - val_loss: 7.8861 - val_mean_absolute_error: 2.1756\n"
     ]
    }
   ],
   "source": [
    "history_GRU = model_GRU.fit(X_train_3D, y_train, epochs=20, \n",
    "                                        batch_size=20, validation_split=0.1)"
   ]
  },
  {
   "cell_type": "code",
   "execution_count": 25,
   "metadata": {},
   "outputs": [
    {
     "data": {
      "image/png": "[encoded data removed]",
      "text/plain": [
       "<Figure size 432x288 with 1 Axes>"
      ]
     },
     "metadata": {
      "needs_background": "light"
     },
     "output_type": "display_data"
    }
   ],
   "source": [
    "pd.DataFrame(history_GRU.history).plot()\n",
    "plt.xlabel(\"epochs\")\n",
    "plt.ylabel(\"loss\")\n",
    "plt.grid(True)\n",
    "plt.show()"
   ]
  },
  {
   "cell_type": "markdown",
   "metadata": {},
   "source": [
    "# Results of all different versions of RNN"
   ]
  },
  {
   "cell_type": "code",
   "execution_count": 26,
   "metadata": {},
   "outputs": [
    {
     "name": "stdout",
     "output_type": "stream",
     "text": [
      "728/728 [==============================] - 0s 315us/sample - loss: 7.0052 - mean_absolute_error: 2.0728\n",
      "728/728 [==============================] - 0s 162us/sample - loss: 7.1071 - mean_absolute_error: 2.0879\n",
      "728/728 [==============================] - 0s 145us/sample - loss: 6.9208 - mean_absolute_error: 2.0560\n"
     ]
    }
   ],
   "source": [
    "mae_simpleRNN = model_simpleRNN.evaluate(X_test_3D, y_test)\n",
    "mae_LSTM = model_LSTM.evaluate(X_test_3D, y_test)\n",
    "mae_GRU = model_GRU.evaluate(X_test_3D, y_test)"
   ]
  },
  {
   "cell_type": "code",
   "execution_count": 27,
   "metadata": {},
   "outputs": [
    {
     "name": "stdout",
     "output_type": "stream",
     "text": [
      "mae_simpleRNN:  [7.005211468581315, 2.0727673]\n",
      "mae_LSTM:  [7.1071050088484204, 2.0879266]\n",
      "mae_GRU:  [6.920812612051492, 2.0559785]\n"
     ]
    }
   ],
   "source": [
    "print(\"mae_simpleRNN: \", mae_simpleRNN)\n",
    "print(\"mae_LSTM: \", mae_LSTM)\n",
    "print(\"mae_GRU: \", mae_GRU)"
   ]
  }
 ],
 "metadata": {
  "kernelspec": {
   "display_name": "Python 3",
   "language": "python",
   "name": "python3"
  },
  "language_info": {
   "codemirror_mode": {
    "name": "ipython",
    "version": 3
   },
   "file_extension": ".py",
   "mimetype": "text/x-python",
   "name": "python",
   "nbconvert_exporter": "python",
   "pygments_lexer": "ipython3",
   "version": "3.6.7"
  }
 },
 "nbformat": 4,
 "nbformat_minor": 2
}
